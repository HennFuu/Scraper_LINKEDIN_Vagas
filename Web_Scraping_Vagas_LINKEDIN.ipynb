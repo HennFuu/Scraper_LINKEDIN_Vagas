{
 "cells": [
  {
   "cell_type": "code",
   "execution_count": 70,
   "metadata": {},
   "outputs": [
    {
     "name": "stderr",
     "output_type": "stream",
     "text": [
      "\n",
      "\n",
      "====== WebDriver manager ======\n",
      "Current google-chrome version is 90.0.4430\n",
      "Get LATEST driver version for 90.0.4430\n",
      "Driver [C:\\Users\\henri\\.wdm\\drivers\\chromedriver\\win32\\90.0.4430.24\\chromedriver.exe] found in cache\n"
     ]
    }
   ],
   "source": [
    "from selenium import webdriver\n",
    "from webdriver_manager.chrome import ChromeDriverManager\n",
    "from selenium.webdriver.common.keys import Keys\n",
    "driver = webdriver.Chrome(ChromeDriverManager().install())\n",
    "from time import sleep"
   ]
  },
  {
   "cell_type": "code",
   "execution_count": 72,
   "metadata": {},
   "outputs": [],
   "source": [
    "driver = webdriver.Chrome(r'C:\\Users\\henri\\.wdm\\drivers\\chromedriver\\win32\\90.0.4430.24\\chromedriver')\n",
    "driver.implicitly_wait(10)\n",
    "driver.get('https://www.linkedin.com/jobs/cientista-de-dados-jobs?originalSubdomain=br&countryRedirected=1&position=1&pageNum=0')"
   ]
  },
  {
   "cell_type": "code",
   "execution_count": 80,
   "metadata": {},
   "outputs": [],
   "source": [
    "descricao_by_class = driver.find_element_by_class_name('description').text #pegar resultados de vagas"
   ]
  },
  {
   "cell_type": "code",
   "execution_count": 89,
   "metadata": {},
   "outputs": [],
   "source": [
    "resultados = driver.find_elements_by_class_name('result-card') #pegar as descrições dos resultados\n",
    "lista_resultados = []\n",
    "while True: #while loop para adicionar iterar todas as vagas conforme a scroll down na página\n",
    "    for n in resultados[len(lista_resultados):]: #lenght dinamico para ser possível salvar todas as vagas \n",
    "        n.click() #clica em cada vaga da lista resultados\n",
    "        sleep(1) #espera 1 segundo\n",
    "        try:\n",
    "            elemento_de_texto = driver.find_element_by_class_name('description').text #pega o texto do elemento WEB que contem a descrição\n",
    "            lista_resultados.append(elemento_de_texto) #adiciona à lista resultado\n",
    "        except:\n",
    "            print ('Erro')\n",
    "            pass\n",
    "    resultados = driver.find_elements_by_class_name('result-card') #próximas vagas a serem carregadas\n",
    "    if len(lista_resultados) == len(resultados): #momento em que não há mais vagas para carregar\n",
    "        break\n",
    "\n",
    "#salvar descriçõe de vagas\n",
    "salvar_resultado = '\\n'.join(lista_resultados)\n",
    "with open('descricoes_vagas.txt', 'w') as f:\n",
    "    f.write(salvar_resultado)\n",
    "\n",
    "driver.quit()"
   ]
  },
  {
   "cell_type": "code",
   "execution_count": 90,
   "metadata": {},
   "outputs": [
    {
     "name": "stdout",
     "output_type": "stream",
     "text": [
      "155\n"
     ]
    }
   ],
   "source": [
    "print (len(lista_resultados))"
   ]
  },
  {
   "cell_type": "code",
   "execution_count": null,
   "metadata": {},
   "outputs": [],
   "source": []
  }
 ],
 "metadata": {
  "kernelspec": {
   "display_name": "Python 3",
   "language": "python",
   "name": "python3"
  },
  "language_info": {
   "codemirror_mode": {
    "name": "ipython",
    "version": 3
   },
   "file_extension": ".py",
   "mimetype": "text/x-python",
   "name": "python",
   "nbconvert_exporter": "python",
   "pygments_lexer": "ipython3",
   "version": "3.8.5"
  }
 },
 "nbformat": 4,
 "nbformat_minor": 4
}
